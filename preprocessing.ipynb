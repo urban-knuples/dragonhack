{
 "cells": [
  {
   "cell_type": "code",
   "execution_count": null,
   "metadata": {
    "collapsed": true
   },
   "outputs": [],
   "source": []
  },
  {
   "cell_type": "markdown",
   "source": [
    "#### state_postal_file = \"CSV_data/state_postal_code.csv\"\n",
    "state,postal_code\n",
    "Alabama ,AL\n",
    "\n",
    "#### shootings_file = \"CSV_data/fatal_police_shootings_data(redundant).csv\"\n",
    "Victim's age,Victim's gender,Victim's race,Date of Incident (month/day/year),City,State,County,Cause of death,A brief description of the circumstances surrounding the death,Official disposition of death (justified or other),Criminal Charges?,Symptoms of mental illness?,Unarmed/Did Not Have an Actual Weapon,Alleged Weapon (Source: WaPo and Review of Cases Not Included in WaPo Database),Alleged Threat Level (Source: WaPo),Fleeing (Source: WaPo)\n",
    "44,Male,Unknown race,10/28/2020,Trigg County,KY,Trigg,Gunshot,\"Officers were called to the report of a man cutting a hole in the floor of his home with a chainsaw. When an officer arrived, they got into an altercation with Biby. As a result of the altercation, the officer discharged his service weapon, striking Biby. Biby was later pronounced dead at the Trigg County hospital. Sheriff Aaron Acree was allegedly involved in the shooting. \",Pending investigation,No known charges,No,Allegedly Armed,undetermined,undetermined,\n",
    "\n",
    "#### pres_file = \"CSV_data/president_county_candidate.csv\"\n",
    "state,county,candidate,party,voteStates\n",
    "Delaware,Kent County,Joe Biden,DEM,44518"
   ],
   "metadata": {
    "collapsed": false,
    "pycharm": {
     "name": "#%% md\n"
    }
   }
  },
  {
   "cell_type": "code",
   "execution_count": 591,
   "outputs": [],
   "source": [
    "import sklearn as sk\n",
    "import pandas as pd\n",
    "import numpy as np\n",
    "import csv\n",
    "import time\n",
    "import math\n",
    "import datetime\n",
    "from collections import defaultdict"
   ],
   "metadata": {
    "collapsed": false,
    "pycharm": {
     "name": "#%%\n"
    }
   }
  },
  {
   "cell_type": "code",
   "execution_count": 595,
   "outputs": [],
   "source": [
    "# load folders\n",
    "shootings_file = \"CSV_data/fatal_police_shootings_detailed.csv\"\n",
    "pres_file = \"CSV_data/president_county_candidate.csv\"\n",
    "pres_file_2016 = \"CSV_data/pres16results.csv\"\n",
    "state_postal_file = \"CSV_data/state_postal_code.csv\"\n",
    "\n",
    "shootings = pd.read_csv(shootings_file)\n",
    "presidency = pd.read_csv(pres_file)\n",
    "presidency2016 = pd.read_csv(pres_file_2016)\n",
    "state_postal = pd.read_csv(state_postal_file)"
   ],
   "metadata": {
    "collapsed": false,
    "pycharm": {
     "name": "#%%\n"
    }
   }
  },
  {
   "cell_type": "code",
   "execution_count": 596,
   "outputs": [],
   "source": [
    "# turn all strings in dataframe to lowercase\n",
    "presidency = presidency.applymap(lambda s:s.lower() if type(s) == str else s)\n",
    "state_postal = state_postal.applymap(lambda s:s.lower() if type(s) == str else s)\n",
    "shootings = shootings.applymap(lambda s:s.lower() if type(s) == str else s)\n",
    "presidency2016 = presidency2016.applymap(lambda s:s.lower() if type(s) == str else s)"
   ],
   "metadata": {
    "collapsed": false,
    "pycharm": {
     "name": "#%%\n"
    }
   }
  },
  {
   "cell_type": "code",
   "execution_count": 597,
   "outputs": [
    {
     "data": {
      "text/plain": "0       california \n1       california \n2         illinois \n3         illinois \n4            texas \n           ...     \n6217         texas \n6218         texas \n6219         texas \n6220         texas \n6221         texas \nName: state, Length: 6222, dtype: object"
     },
     "execution_count": 597,
     "metadata": {},
     "output_type": "execute_result"
    }
   ],
   "source": [
    "state_postal_dic = {row[\"postal_code\"]:row['state']  for i, row in state_postal.iterrows()}\n",
    "\n",
    "# replace every state postal to state\n",
    "# al -> alabama\n",
    "shootings['state'] = shootings['state'].apply(lambda s: state_postal_dic.get(s, \"\"))\n",
    "presidency2016['state'] = presidency2016['state'].apply(lambda s: state_postal_dic.get(s, \"\"))\n",
    "presidency2016['state']"
   ],
   "metadata": {
    "collapsed": false,
    "pycharm": {
     "name": "#%%\n"
    }
   }
  },
  {
   "cell_type": "code",
   "execution_count": 201,
   "outputs": [],
   "source": [
    "# turn all dates to timestamps\n",
    "s = shootings['date'][0]\n",
    "def process_date(date):\n",
    "    if len(date) == 0:\n",
    "        return 0\n",
    "\n",
    "    dt = datetime.datetime.strptime(date, \"%m/%d/%Y\").timetuple()\n",
    "    return time.mktime(dt)"
   ],
   "metadata": {
    "collapsed": false,
    "pycharm": {
     "name": "#%%\n"
    }
   }
  },
  {
   "cell_type": "code",
   "execution_count": 598,
   "outputs": [],
   "source": [
    "gender_idx = {cause:i+1 for i,cause in enumerate(set(shootings['gender']))}\n",
    "race_idx = {cause:i+1 for i,cause in enumerate(set(shootings['race']))}\n",
    "cause_of_death_idx = {cause:i+1 for i,cause in enumerate(set(shootings['death']))}\n",
    "charges_idx = {charges:i+1 for i,charges in enumerate(set(shootings['charges']))}\n",
    "mental_illness_idx = {\"yes\":0, \"no\":1, \"unknown\": 2}\n",
    "weapon_idx = {weapon:i+1 for i,weapon in enumerate(set(shootings['weapon']))}\n",
    "weapon_type_idx = {weapon:i+1 for i,weapon in enumerate(set(shootings['weapon_type']))}\n",
    "threat_idx = {threat:i+1 for i,threat in enumerate(set(shootings['threat']))}"
   ],
   "metadata": {
    "collapsed": false,
    "pycharm": {
     "name": "#%%\n"
    }
   }
  },
  {
   "cell_type": "code",
   "execution_count": 599,
   "outputs": [
    {
     "name": "stdout",
     "output_type": "stream",
     "text": [
      "{nan, 'not fleeing', 'car', 'foot', 'other'}\n"
     ]
    }
   ],
   "source": [
    "# Fleeing index is a bit different\n",
    "fleeing_set = set(shootings['fleeing'])\n",
    "print(fleeing_set)\n",
    "\n",
    "# We're going to set the data to 0 or 1 based on if he was fleeing or wasn't\n",
    "def fleeing_idx_func(value):\n",
    "    if value in ['car', 'foot']:\n",
    "        return 1\n",
    "    else:\n",
    "        return 0\n",
    "\n",
    "county_id_file = \"CSV_data/county_code.csv\"\n",
    "county = pd.read_csv(county_id_file)\n",
    "county = county.applymap(lambda s:s.lower() if type(s) == str else s)\n",
    "\n",
    "only_state = county.loc[county['code'] % 1000 == 0]\n",
    "\n",
    "keys = list(only_state['code'].values)\n",
    "only_county = county[~county['code'].isin(keys)]\n",
    "\n",
    "\n",
    "def get_county_code(state_name, county_name):\n",
    "    state_name = str(state_name).strip()\n",
    "    county_name = str(county_name).strip()\n",
    "    if county_name == \"nan\":\n",
    "        return 0\n",
    "\n",
    "\n",
    "    state_code = only_state[only_state['name'].str.contains(state_name)]\n",
    "    if len(state_code) == 0:\n",
    "        return 0\n",
    "\n",
    "    state_code = state_code[\"code\"].values[0]\n",
    "\n",
    "    name_bol = only_county['name'].str.contains(county_name)\n",
    "    range_bol = only_county[\"code\"].between(state_code, state_code + 999)\n",
    "    county_code = only_county[name_bol & range_bol]\n",
    "\n",
    "    return 0 if len(county_code) == 0 else county_code[\"code\"].values[0]\n"
   ],
   "metadata": {
    "collapsed": false,
    "pycharm": {
     "name": "#%%\n"
    }
   }
  },
  {
   "cell_type": "code",
   "execution_count": 605,
   "outputs": [],
   "source": [
    "def election_2020():\n",
    "    left_count = defaultdict(int)\n",
    "    right_count = defaultdict(int)\n",
    "    lead = defaultdict(str)\n",
    "\n",
    "    left = [\"dem\"]\n",
    "    right = [\"rep\"]\n",
    "\n",
    "\n",
    "    for index, row in presidency.iterrows():\n",
    "        state_county = (row[\"state\"], row[\"county\"])\n",
    "\n",
    "        key = get_county_code(row[\"state\"], row[\"county\"])\n",
    "        party = row[\"party\"]\n",
    "\n",
    "        votes = row[\"voteStates\"]\n",
    "\n",
    "        if party in left:\n",
    "            left_count[key] += votes\n",
    "            lead[key] = \"dem\"\n",
    "        elif party in right:\n",
    "            right_count[key] += votes\n",
    "            lead[key] = \"rep\"\n",
    "\n",
    "    return left_count, right_count, lead\n",
    "\n",
    "def election_2016():\n",
    "    left_count = defaultdict(int)\n",
    "    right_count = defaultdict(int)\n",
    "    lead = defaultdict(str)\n",
    "\n",
    "    left = [\"hillary clinton\"]\n",
    "    right = [\"donald trump\"]\n",
    "\n",
    "\n",
    "    for index, row in presidency2016.iterrows():\n",
    "        state_county = (row[\"state\"], row[\"county\"])\n",
    "\n",
    "        key = get_county_code(row[\"state\"], row[\"county\"])\n",
    "        party = row[\"candidate\"]\n",
    "\n",
    "        votes = row[\"votes\"]\n",
    "\n",
    "        if party in left:\n",
    "            left_count[key] += votes\n",
    "            lead[key] = \"dem\"\n",
    "        elif party in right:\n",
    "            right_count[key] += votes\n",
    "            lead[key] = \"rep\"\n",
    "\n",
    "    return left_count, right_count, lead\n",
    "\n",
    "left_count_2016, right_count_2016, lead_2016 = election_2016()\n",
    "left_count, right_count, lead = election_2020()"
   ],
   "metadata": {
    "collapsed": false,
    "pycharm": {
     "name": "#%%\n"
    }
   }
  },
  {
   "cell_type": "code",
   "execution_count": 629,
   "outputs": [],
   "source": [
    "\n",
    "# TODO if county not specified, find out based on state and city\n",
    "after_2016_elections = process_date(\"11/07/2016\")\n",
    "processed_data = []\n",
    "processed_data_display = []\n",
    "for i, row in shootings.iterrows():\n",
    "     state_county = (row[\"state\"], row[\"county\"])\n",
    "\n",
    "     state_county_ids = get_county_code(row[\"state\"], row[\"county\"])\n",
    "     state_ids = get_county_code(row[\"state\"], \"\")\n",
    "\n",
    "     date = process_date(row[\"date\"])\n",
    "\n",
    "     # this will skip anything before 2016 elections, because we\n",
    "     # dont have the data\n",
    "     if state_county_ids == 0:\n",
    "         continue\n",
    "\n",
    "     if date <= after_2016_elections:\n",
    "         left_count_n = left_count_2016.get(state_county_ids,0 )\n",
    "         right_count_n = left_count_2016.get(state_county_ids, 0)\n",
    "\n",
    "         lead_display = lead_2016.get(state_county_ids, 0)\n",
    "         lead_i = 0 if lead_display == \"dem\" else 1\n",
    "         prev_party_display = \"uknown\"\n",
    "         prev_lead_i = -1\n",
    "\n",
    "\n",
    "     else:\n",
    "         left_count_n = left_count.get(state_county_ids,0 )\n",
    "         right_count_n = right_count.get(state_county_ids, 0)\n",
    "\n",
    "         lead_display = lead.get(state_county_ids, 0)\n",
    "         lead_i = 0 if lead_display == \"dem\" else 1\n",
    "\n",
    "         prev_party_display = lead_2016.get(state_county_ids, 0)\n",
    "         prev_lead_i = 0 if prev_party_display == \"dem\" else 1\n",
    "\n",
    "\n",
    "     # TODO: age kdaj hrani null\n",
    "     age = row[\"victim\"] if row[\"victim\"] != float('nan') else 0\n",
    "     gender = gender_idx[row[\"gender\"]]\n",
    "     race = race_idx[row[\"race\"]]\n",
    "     death = cause_of_death_idx[row[\"death\"]]\n",
    "     charges = charges_idx[row[\"charges\"]]\n",
    "     illness = mental_illness_idx.get(row[\"mental_illness\"], mental_illness_idx[\"unknown\"])\n",
    "     weapon = weapon_idx[row[\"weapon\"]]\n",
    "     weapon_type = weapon_type_idx[row[\"weapon_type\"]]\n",
    "     threat = threat_idx[row[\"threat\"]]\n",
    "     fleeing = fleeing_idx_func(row[\"fleeing\"])\n",
    "\n",
    "\n",
    "     values_display = (row[\"county\"], row[\"date\"], row[\"victim\"], row[\"gender\"],\n",
    "                       row[\"race\"], row[\"death\"], row[\"charges\"], row[\"mental_illness\"],\n",
    "                       row[\"weapon\"], row[\"weapon_type\"], row[\"threat\"],\n",
    "                       row[\"fleeing\"], left_count_n, right_count_n, prev_party_display, lead_display)\n",
    "     processed_data_display.append(values_display)\n",
    "\n",
    "     values = (state_county_ids, date, age, gender, race, death, charges, illness, weapon, weapon_type, threat, fleeing, left_count_n, right_count_n, prev_lead_i, lead_i)\n",
    "     processed_data.append(values)"
   ],
   "metadata": {
    "collapsed": false,
    "pycharm": {
     "name": "#%%\n"
    }
   }
  },
  {
   "cell_type": "code",
   "execution_count": 630,
   "outputs": [],
   "source": [
    "header = [\"county\", \"date\", \"age\", \"gender\", \"race\", \"death\", \"charges\", \"illness\",\n",
    "          \"weapon\", \"weapon_type\", \"threat\", \"fleeing\", \"leftvote\", \"rightvote\", \"prev_party\", \"winner\"]\n",
    "\n",
    "data_displayed = pd.DataFrame.from_records(processed_data_display)\n",
    "data_displayed.columns = header\n",
    "data_displayed.to_csv(\"./test_display.csv\")\n",
    "\n",
    "data = pd.DataFrame.from_records(processed_data)\n",
    "data.columns = header\n",
    "data.to_csv(\"./test.csv\")"
   ],
   "metadata": {
    "collapsed": false,
    "pycharm": {
     "name": "#%%\n"
    }
   }
  },
  {
   "cell_type": "code",
   "execution_count": 610,
   "outputs": [
    {
     "data": {
      "text/plain": "                   0           1   2     3             4        5  \\\n0          kentucky   10/28/2020  44  male  unknown race  gunshot   \n1           indiana   10/24/2020  33  male  unknown race  gunshot   \n2            kansas   10/23/2020  32  male  unknown race  gunshot   \n3     west virginia   10/22/2020  63  male  unknown race  gunshot   \n4           arizona   10/22/2020  30  male      hispanic  gunshot   \n...              ...         ...  ..   ...           ...      ...   \n8286       colorado     1/1/2013  21  male      hispanic  gunshot   \n8287     california     1/1/2013  26  male      hispanic  gunshot   \n8288     new mexico     1/1/2013  49  male      hispanic  gunshot   \n8289      wisconsin     1/1/2013  21  male         white  gunshot   \n8290      minnesota     1/1/2013  26  male         white    taser   \n\n                     6                    7  \\\n0     no known charges                   no   \n1     no known charges                   no   \n2     no known charges                   no   \n3     no known charges                   no   \n4     no known charges                   no   \n...                ...                  ...   \n8286  no known charges                   no   \n8287  no known charges                   no   \n8288  no known charges                   no   \n8289  no known charges  drug or alcohol use   \n8290  no known charges                   no   \n\n                                          8             9            10  \\\n0                           allegedly armed  undetermined  undetermined   \n1                           allegedly armed         knife        attack   \n2                           allegedly armed           gun         other   \n3                           allegedly armed  undetermined         other   \n4                           allegedly armed           gun        attack   \n...                                     ...           ...           ...   \n8286                        allegedly armed           gun           NaN   \n8287                        allegedly armed           gun           NaN   \n8288                        allegedly armed  blunt weapon           NaN   \n8289                        allegedly armed           gun           NaN   \n8290  unarmed/did not have an actual weapon     no object           NaN   \n\n               11     12     13   14  \n0             NaN   1791   5487  dem  \n1     not fleeing   5433  19441  dem  \n2             car   3869  12789  dem  \n3             NaN   1451   4199  dem  \n4             car  65355  88597  dem  \n...           ...    ...    ...  ...  \n8286          NaN  27945  27945  rep  \n8287          NaN  64980  64980  dem  \n8288          NaN  12826  12826  dem  \n8289          NaN  11342  11342  rep  \n8290          NaN  14428  14428  rep  \n\n[8291 rows x 15 columns]",
      "text/html": "<div>\n<style scoped>\n    .dataframe tbody tr th:only-of-type {\n        vertical-align: middle;\n    }\n\n    .dataframe tbody tr th {\n        vertical-align: top;\n    }\n\n    .dataframe thead th {\n        text-align: right;\n    }\n</style>\n<table border=\"1\" class=\"dataframe\">\n  <thead>\n    <tr style=\"text-align: right;\">\n      <th></th>\n      <th>0</th>\n      <th>1</th>\n      <th>2</th>\n      <th>3</th>\n      <th>4</th>\n      <th>5</th>\n      <th>6</th>\n      <th>7</th>\n      <th>8</th>\n      <th>9</th>\n      <th>10</th>\n      <th>11</th>\n      <th>12</th>\n      <th>13</th>\n      <th>14</th>\n    </tr>\n  </thead>\n  <tbody>\n    <tr>\n      <th>0</th>\n      <td>kentucky</td>\n      <td>10/28/2020</td>\n      <td>44</td>\n      <td>male</td>\n      <td>unknown race</td>\n      <td>gunshot</td>\n      <td>no known charges</td>\n      <td>no</td>\n      <td>allegedly armed</td>\n      <td>undetermined</td>\n      <td>undetermined</td>\n      <td>NaN</td>\n      <td>1791</td>\n      <td>5487</td>\n      <td>dem</td>\n    </tr>\n    <tr>\n      <th>1</th>\n      <td>indiana</td>\n      <td>10/24/2020</td>\n      <td>33</td>\n      <td>male</td>\n      <td>unknown race</td>\n      <td>gunshot</td>\n      <td>no known charges</td>\n      <td>no</td>\n      <td>allegedly armed</td>\n      <td>knife</td>\n      <td>attack</td>\n      <td>not fleeing</td>\n      <td>5433</td>\n      <td>19441</td>\n      <td>dem</td>\n    </tr>\n    <tr>\n      <th>2</th>\n      <td>kansas</td>\n      <td>10/23/2020</td>\n      <td>32</td>\n      <td>male</td>\n      <td>unknown race</td>\n      <td>gunshot</td>\n      <td>no known charges</td>\n      <td>no</td>\n      <td>allegedly armed</td>\n      <td>gun</td>\n      <td>other</td>\n      <td>car</td>\n      <td>3869</td>\n      <td>12789</td>\n      <td>dem</td>\n    </tr>\n    <tr>\n      <th>3</th>\n      <td>west virginia</td>\n      <td>10/22/2020</td>\n      <td>63</td>\n      <td>male</td>\n      <td>unknown race</td>\n      <td>gunshot</td>\n      <td>no known charges</td>\n      <td>no</td>\n      <td>allegedly armed</td>\n      <td>undetermined</td>\n      <td>other</td>\n      <td>NaN</td>\n      <td>1451</td>\n      <td>4199</td>\n      <td>dem</td>\n    </tr>\n    <tr>\n      <th>4</th>\n      <td>arizona</td>\n      <td>10/22/2020</td>\n      <td>30</td>\n      <td>male</td>\n      <td>hispanic</td>\n      <td>gunshot</td>\n      <td>no known charges</td>\n      <td>no</td>\n      <td>allegedly armed</td>\n      <td>gun</td>\n      <td>attack</td>\n      <td>car</td>\n      <td>65355</td>\n      <td>88597</td>\n      <td>dem</td>\n    </tr>\n    <tr>\n      <th>...</th>\n      <td>...</td>\n      <td>...</td>\n      <td>...</td>\n      <td>...</td>\n      <td>...</td>\n      <td>...</td>\n      <td>...</td>\n      <td>...</td>\n      <td>...</td>\n      <td>...</td>\n      <td>...</td>\n      <td>...</td>\n      <td>...</td>\n      <td>...</td>\n      <td>...</td>\n    </tr>\n    <tr>\n      <th>8286</th>\n      <td>colorado</td>\n      <td>1/1/2013</td>\n      <td>21</td>\n      <td>male</td>\n      <td>hispanic</td>\n      <td>gunshot</td>\n      <td>no known charges</td>\n      <td>no</td>\n      <td>allegedly armed</td>\n      <td>gun</td>\n      <td>NaN</td>\n      <td>NaN</td>\n      <td>27945</td>\n      <td>27945</td>\n      <td>rep</td>\n    </tr>\n    <tr>\n      <th>8287</th>\n      <td>california</td>\n      <td>1/1/2013</td>\n      <td>26</td>\n      <td>male</td>\n      <td>hispanic</td>\n      <td>gunshot</td>\n      <td>no known charges</td>\n      <td>no</td>\n      <td>allegedly armed</td>\n      <td>gun</td>\n      <td>NaN</td>\n      <td>NaN</td>\n      <td>64980</td>\n      <td>64980</td>\n      <td>dem</td>\n    </tr>\n    <tr>\n      <th>8288</th>\n      <td>new mexico</td>\n      <td>1/1/2013</td>\n      <td>49</td>\n      <td>male</td>\n      <td>hispanic</td>\n      <td>gunshot</td>\n      <td>no known charges</td>\n      <td>no</td>\n      <td>allegedly armed</td>\n      <td>blunt weapon</td>\n      <td>NaN</td>\n      <td>NaN</td>\n      <td>12826</td>\n      <td>12826</td>\n      <td>dem</td>\n    </tr>\n    <tr>\n      <th>8289</th>\n      <td>wisconsin</td>\n      <td>1/1/2013</td>\n      <td>21</td>\n      <td>male</td>\n      <td>white</td>\n      <td>gunshot</td>\n      <td>no known charges</td>\n      <td>drug or alcohol use</td>\n      <td>allegedly armed</td>\n      <td>gun</td>\n      <td>NaN</td>\n      <td>NaN</td>\n      <td>11342</td>\n      <td>11342</td>\n      <td>rep</td>\n    </tr>\n    <tr>\n      <th>8290</th>\n      <td>minnesota</td>\n      <td>1/1/2013</td>\n      <td>26</td>\n      <td>male</td>\n      <td>white</td>\n      <td>taser</td>\n      <td>no known charges</td>\n      <td>no</td>\n      <td>unarmed/did not have an actual weapon</td>\n      <td>no object</td>\n      <td>NaN</td>\n      <td>NaN</td>\n      <td>14428</td>\n      <td>14428</td>\n      <td>rep</td>\n    </tr>\n  </tbody>\n</table>\n<p>8291 rows × 15 columns</p>\n</div>"
     },
     "execution_count": 610,
     "metadata": {},
     "output_type": "execute_result"
    }
   ],
   "source": [],
   "metadata": {
    "collapsed": false,
    "pycharm": {
     "name": "#%%\n"
    }
   }
  },
  {
   "cell_type": "code",
   "execution_count": 622,
   "outputs": [],
   "source": [
    "data_displayed['test'].value_counts()"
   ],
   "metadata": {
    "collapsed": false,
    "pycharm": {
     "name": "#%%\n"
    }
   }
  },
  {
   "cell_type": "code",
   "execution_count": null,
   "outputs": [],
   "source": [],
   "metadata": {
    "collapsed": false,
    "pycharm": {
     "name": "#%%\n"
    }
   }
  },
  {
   "cell_type": "code",
   "execution_count": 477,
   "outputs": [
    {
     "data": {
      "text/plain": "238101"
     },
     "execution_count": 477,
     "metadata": {},
     "output_type": "execute_result"
    }
   ],
   "source": [
    "id = get_county_code(\"ohio\", \"hamilton\")\n",
    "left_count.get(id, 0)"
   ],
   "metadata": {
    "collapsed": false,
    "pycharm": {
     "name": "#%%\n"
    }
   }
  },
  {
   "cell_type": "code",
   "execution_count": null,
   "outputs": [],
   "source": [],
   "metadata": {
    "collapsed": false,
    "pycharm": {
     "name": "#%%\n"
    }
   }
  }
 ],
 "metadata": {
  "kernelspec": {
   "display_name": "Python 3",
   "language": "python",
   "name": "python3"
  },
  "language_info": {
   "codemirror_mode": {
    "name": "ipython",
    "version": 2
   },
   "file_extension": ".py",
   "mimetype": "text/x-python",
   "name": "python",
   "nbconvert_exporter": "python",
   "pygments_lexer": "ipython2",
   "version": "2.7.6"
  }
 },
 "nbformat": 4,
 "nbformat_minor": 0
}